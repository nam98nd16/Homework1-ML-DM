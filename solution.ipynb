{
 "nbformat": 4,
 "nbformat_minor": 2,
 "metadata": {
  "language_info": {
   "name": "python",
   "codemirror_mode": {
    "name": "ipython",
    "version": 3
   },
   "version": "3.7.0-final"
  },
  "orig_nbformat": 2,
  "file_extension": ".py",
  "mimetype": "text/x-python",
  "name": "python",
  "npconvert_exporter": "python",
  "pygments_lexer": "ipython3",
  "version": 3,
  "kernelspec": {
   "name": "python37064bit609064a53f894820843cf40af4d161af",
   "display_name": "Python 3.7.0 64-bit"
  }
 },
 "cells": [
  {
   "cell_type": "code",
   "execution_count": 45,
   "metadata": {},
   "outputs": [
    {
     "output_type": "execute_result",
     "data": {
      "text/plain": "             0         1          2         3         4         5         6  \\\n1     2.521899  3.683394  66.323529 -0.634417  1.000000  0.409612  7.000000   \n2     2.521899  3.732751  60.000000  1.573618  0.000000  0.639814  7.000000   \n3     1.048504  3.096229  67.000000  0.249917  0.000000  0.089343  6.664740   \n4     2.887677  3.870995  68.000000 -1.347755  0.552448  1.276986  6.830986   \n5     2.731273  3.945024  79.000000  1.967320  1.000000  2.487831  7.063830   \n...        ...       ...        ...       ...       ...       ...       ...   \n996   3.125917  3.245430  68.000000 -0.142998  0.334821  2.540562  7.000000   \n997   2.566080  3.567651  67.848485  0.717759  1.000000  2.414309  7.000000   \n998   1.783414  3.574952  64.372781  0.411349  0.000000  1.234720  7.000000   \n999   1.633291  4.130596  67.848485  1.938254  0.334821 -1.389201  6.000000   \n1000  1.048504  4.138071  65.000000  2.107206  0.000000 -0.015180  6.000000   \n\n               7  8  \n1      30.000000  5  \n2      30.000000  5  \n3      80.000000  3  \n4      60.000000  5  \n5     100.000000  4  \n...          ... ..  \n996    36.435185  4  \n997    70.000000  4  \n998    60.000000  3  \n999     0.000000  4  \n1000    0.000000  3  \n\n[1000 rows x 9 columns]",
      "text/html": "<div>\n<style scoped>\n    .dataframe tbody tr th:only-of-type {\n        vertical-align: middle;\n    }\n\n    .dataframe tbody tr th {\n        vertical-align: top;\n    }\n\n    .dataframe thead th {\n        text-align: right;\n    }\n</style>\n<table border=\"1\" class=\"dataframe\">\n  <thead>\n    <tr style=\"text-align: right;\">\n      <th></th>\n      <th>0</th>\n      <th>1</th>\n      <th>2</th>\n      <th>3</th>\n      <th>4</th>\n      <th>5</th>\n      <th>6</th>\n      <th>7</th>\n      <th>8</th>\n    </tr>\n  </thead>\n  <tbody>\n    <tr>\n      <td>1</td>\n      <td>2.521899</td>\n      <td>3.683394</td>\n      <td>66.323529</td>\n      <td>-0.634417</td>\n      <td>1.000000</td>\n      <td>0.409612</td>\n      <td>7.000000</td>\n      <td>30.000000</td>\n      <td>5</td>\n    </tr>\n    <tr>\n      <td>2</td>\n      <td>2.521899</td>\n      <td>3.732751</td>\n      <td>60.000000</td>\n      <td>1.573618</td>\n      <td>0.000000</td>\n      <td>0.639814</td>\n      <td>7.000000</td>\n      <td>30.000000</td>\n      <td>5</td>\n    </tr>\n    <tr>\n      <td>3</td>\n      <td>1.048504</td>\n      <td>3.096229</td>\n      <td>67.000000</td>\n      <td>0.249917</td>\n      <td>0.000000</td>\n      <td>0.089343</td>\n      <td>6.664740</td>\n      <td>80.000000</td>\n      <td>3</td>\n    </tr>\n    <tr>\n      <td>4</td>\n      <td>2.887677</td>\n      <td>3.870995</td>\n      <td>68.000000</td>\n      <td>-1.347755</td>\n      <td>0.552448</td>\n      <td>1.276986</td>\n      <td>6.830986</td>\n      <td>60.000000</td>\n      <td>5</td>\n    </tr>\n    <tr>\n      <td>5</td>\n      <td>2.731273</td>\n      <td>3.945024</td>\n      <td>79.000000</td>\n      <td>1.967320</td>\n      <td>1.000000</td>\n      <td>2.487831</td>\n      <td>7.063830</td>\n      <td>100.000000</td>\n      <td>4</td>\n    </tr>\n    <tr>\n      <td>...</td>\n      <td>...</td>\n      <td>...</td>\n      <td>...</td>\n      <td>...</td>\n      <td>...</td>\n      <td>...</td>\n      <td>...</td>\n      <td>...</td>\n      <td>...</td>\n    </tr>\n    <tr>\n      <td>996</td>\n      <td>3.125917</td>\n      <td>3.245430</td>\n      <td>68.000000</td>\n      <td>-0.142998</td>\n      <td>0.334821</td>\n      <td>2.540562</td>\n      <td>7.000000</td>\n      <td>36.435185</td>\n      <td>4</td>\n    </tr>\n    <tr>\n      <td>997</td>\n      <td>2.566080</td>\n      <td>3.567651</td>\n      <td>67.848485</td>\n      <td>0.717759</td>\n      <td>1.000000</td>\n      <td>2.414309</td>\n      <td>7.000000</td>\n      <td>70.000000</td>\n      <td>4</td>\n    </tr>\n    <tr>\n      <td>998</td>\n      <td>1.783414</td>\n      <td>3.574952</td>\n      <td>64.372781</td>\n      <td>0.411349</td>\n      <td>0.000000</td>\n      <td>1.234720</td>\n      <td>7.000000</td>\n      <td>60.000000</td>\n      <td>3</td>\n    </tr>\n    <tr>\n      <td>999</td>\n      <td>1.633291</td>\n      <td>4.130596</td>\n      <td>67.848485</td>\n      <td>1.938254</td>\n      <td>0.334821</td>\n      <td>-1.389201</td>\n      <td>6.000000</td>\n      <td>0.000000</td>\n      <td>4</td>\n    </tr>\n    <tr>\n      <td>1000</td>\n      <td>1.048504</td>\n      <td>4.138071</td>\n      <td>65.000000</td>\n      <td>2.107206</td>\n      <td>0.000000</td>\n      <td>-0.015180</td>\n      <td>6.000000</td>\n      <td>0.000000</td>\n      <td>3</td>\n    </tr>\n  </tbody>\n</table>\n<p>1000 rows × 9 columns</p>\n</div>"
     },
     "metadata": {},
     "execution_count": 45
    }
   ],
   "source": [
    "import pandas as pd\n",
    "import numpy\n",
    "from sklearn.preprocessing import Imputer\n",
    "\n",
    "df = pd.read_csv('1-training-data.csv', header=None)\n",
    "\n",
    "#Remove first row\n",
    "df = df.iloc[1:]\n",
    "\n",
    "#Replace invalid values with NaN\n",
    "df[[0,1,2,3,4,5,6,7]] = df[[0,1,2,3,4,5,6,7]].replace('?', numpy.NaN)\n",
    "\n",
    "#Replace ? in this particular value with 5\n",
    "df[[0]] = df[[0]].replace('1.?277005796', 1.5277005796)\n",
    "\n",
    "#Ensure all values are numeric\n",
    "df = df.apply(pd.to_numeric, errors='coerce')\n",
    "\n",
    "#Replace all NaN values in every column with median of a particular group to which a row belongs\n",
    "#In other words, use the class-specific mean value of an attribute\n",
    "df[0] = df[0].fillna(df.groupby(8)[0].transform('mean'))\n",
    "df[1] = df[1].fillna(df.groupby(8)[1].transform('mean'))\n",
    "df[2] = df[2].fillna(df.groupby(8)[2].transform('mean'))\n",
    "df[3] = df[3].fillna(df.groupby(8)[3].transform('mean'))\n",
    "df[4] = df[4].fillna(df.groupby(8)[4].transform('mean'))\n",
    "df[5] = df[5].fillna(df.groupby(8)[5].transform('mean'))\n",
    "df[6] = df[6].fillna(df.groupby(8)[6].transform('mean'))\n",
    "df[7] = df[7].fillna(df.groupby(8)[7].transform('mean'))\n",
    "df"
   ]
  },
  {
   "cell_type": "code",
   "execution_count": 46,
   "metadata": {},
   "outputs": [],
   "source": [
    "#Split data set into test set and train set\n",
    "x = df.iloc[:,:-1].values\n",
    "y = df.iloc[:,-1].values\n",
    "from sklearn.model_selection import train_test_split\n",
    "x_train,x_test,y_train,y_test = train_test_split(x,y,test_size=0.2)\n",
    ""
   ]
  },
  {
   "cell_type": "code",
   "execution_count": 47,
   "metadata": {},
   "outputs": [
    {
     "output_type": "stream",
     "name": "stdout",
     "text": "0.95\n"
    }
   ],
   "source": [
    "#Use decision tree to train a model\n",
    "from sklearn.tree import DecisionTreeClassifier\n",
    "from sklearn.metrics import accuracy_score\n",
    "dt = DecisionTreeClassifier()\n",
    "dt.fit(x_train,y_train)\n",
    "\n",
    "#Evaluate the trained model\n",
    "y_pred = dt.predict(x_test)\n",
    "acc = accuracy_score(y_test,y_pred)\n",
    "print(acc)"
   ]
  },
  {
   "cell_type": "code",
   "execution_count": 48,
   "metadata": {},
   "outputs": [
    {
     "output_type": "stream",
     "name": "stdout",
     "text": "[2 1 4 4 5 4 5 3 5 4 4 3 4 2 4]\n"
    }
   ],
   "source": [
    "#Load and predict 15 examples in the test file\n",
    "test = pd.read_csv('20162844-test.csv', header=None)\n",
    "\n",
    "x_test = test.iloc[:,:-1].values\n",
    "y_test = test.iloc[:,-1].values\n",
    "\n",
    "y_test_pred = dt.predict(x_test)\n",
    "print(y_test_pred)"
   ]
  },
  {
   "cell_type": "code",
   "execution_count": null,
   "metadata": {},
   "outputs": [],
   "source": []
  }
 ]
}